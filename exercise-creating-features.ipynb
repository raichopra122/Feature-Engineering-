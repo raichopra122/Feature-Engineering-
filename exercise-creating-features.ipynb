{
 "cells": [
  {
   "cell_type": "markdown",
   "id": "solid-genome",
   "metadata": {
    "papermill": {
     "duration": 0.016142,
     "end_time": "2021-04-01T06:41:34.777181",
     "exception": false,
     "start_time": "2021-04-01T06:41:34.761039",
     "status": "completed"
    },
    "tags": []
   },
   "source": [
    "**This notebook is an exercise in the [Feature Engineering](https://www.kaggle.com/learn/feature-engineering) course.  You can reference the tutorial at [this link](https://www.kaggle.com/ryanholbrook/creating-features).**\n",
    "\n",
    "---\n"
   ]
  },
  {
   "cell_type": "markdown",
   "id": "continued-silly",
   "metadata": {
    "papermill": {
     "duration": 0.014405,
     "end_time": "2021-04-01T06:41:34.806649",
     "exception": false,
     "start_time": "2021-04-01T06:41:34.792244",
     "status": "completed"
    },
    "tags": []
   },
   "source": [
    "# Introduction #\n",
    "\n",
    "In this exercise you'll start developing the features you identified in Exercise 2 as having the most potential. As you work through this exercise, you might take a moment to look at the data documentation again and consider whether the features we're creating make sense from a real-world perspective, and whether there are any useful combinations that stand out to you.\n",
    "\n",
    "Run this cell to set everything up!"
   ]
  },
  {
   "cell_type": "code",
   "execution_count": 1,
   "id": "tender-middle",
   "metadata": {
    "execution": {
     "iopub.execute_input": "2021-04-01T06:41:34.846721Z",
     "iopub.status.busy": "2021-04-01T06:41:34.845959Z",
     "iopub.status.idle": "2021-04-01T06:41:36.724359Z",
     "shell.execute_reply": "2021-04-01T06:41:36.723364Z"
    },
    "papermill": {
     "duration": 1.902819,
     "end_time": "2021-04-01T06:41:36.724537",
     "exception": false,
     "start_time": "2021-04-01T06:41:34.821718",
     "status": "completed"
    },
    "tags": []
   },
   "outputs": [],
   "source": [
    "# Setup feedback system\n",
    "from learntools.core import binder\n",
    "binder.bind(globals())\n",
    "from learntools.feature_engineering_new.ex3 import *\n",
    "\n",
    "import numpy as np\n",
    "import pandas as pd\n",
    "from sklearn.model_selection import cross_val_score\n",
    "from xgboost import XGBRegressor\n",
    "\n",
    "\n",
    "def score_dataset(X, y, model=XGBRegressor()):\n",
    "    # Label encoding for categoricals\n",
    "    for colname in X.select_dtypes([\"category\", \"object\"]):\n",
    "        X[colname], _ = X[colname].factorize()\n",
    "    # Metric for Housing competition is RMSLE (Root Mean Squared Log Error)\n",
    "    score = cross_val_score(\n",
    "        model, X, y, cv=5, scoring=\"neg_mean_squared_log_error\",\n",
    "    )\n",
    "    score = -1 * score.mean()\n",
    "    score = np.sqrt(score)\n",
    "    return score\n",
    "\n",
    "\n",
    "# Prepare data\n",
    "df = pd.read_csv(\"../input/fe-course-data/ames.csv\")\n",
    "X = df.copy()\n",
    "y = X.pop(\"SalePrice\")"
   ]
  },
  {
   "cell_type": "markdown",
   "id": "metallic-advertiser",
   "metadata": {
    "papermill": {
     "duration": 0.014488,
     "end_time": "2021-04-01T06:41:36.754431",
     "exception": false,
     "start_time": "2021-04-01T06:41:36.739943",
     "status": "completed"
    },
    "tags": []
   },
   "source": [
    "-------------------------------------------------------------------------------\n",
    "\n",
    "Let's start with a few mathematical combinations. We'll focus on features describing areas -- having the same units (square-feet) makes it easy to combine them in sensible ways. Since we're using XGBoost (a tree-based model), we'll focus on ratios and sums.\n",
    "\n",
    "# 1) Create Mathematical Transforms\n",
    "\n",
    "Create the following features:\n",
    "\n",
    "- `LivLotRatio`: the ratio of `GrLivArea` to `LotArea`\n",
    "- `Spaciousness`: the sum of `FirstFlrSF` and `SecondFlrSF` divided by `TotRmsAbvGrd`\n",
    "- `TotalOutsideSF`: the sum of `WoodDeckSF`, `OpenPorchSF`, `EnclosedPorch`, `Threeseasonporch`, and `ScreenPorch`"
   ]
  },
  {
   "cell_type": "code",
   "execution_count": 2,
   "id": "ultimate-excellence",
   "metadata": {
    "execution": {
     "iopub.execute_input": "2021-04-01T06:41:36.792118Z",
     "iopub.status.busy": "2021-04-01T06:41:36.791453Z",
     "iopub.status.idle": "2021-04-01T06:41:36.827534Z",
     "shell.execute_reply": "2021-04-01T06:41:36.828044Z"
    },
    "lines_to_next_cell": 0,
    "papermill": {
     "duration": 0.058638,
     "end_time": "2021-04-01T06:41:36.828232",
     "exception": false,
     "start_time": "2021-04-01T06:41:36.769594",
     "status": "completed"
    },
    "tags": []
   },
   "outputs": [
    {
     "data": {
      "application/javascript": [
       "parent.postMessage({\"jupyterEvent\": \"custom.exercise_interaction\", \"data\": {\"outcomeType\": 1, \"valueTowardsCompletion\": 0.2, \"interactionType\": 1, \"questionType\": 2, \"questionId\": \"1_Q1\", \"learnToolsVersion\": \"0.3.4\", \"failureMessage\": \"\", \"exceptionClass\": \"\", \"trace\": \"\"}}, \"*\")"
      ],
      "text/plain": [
       "<IPython.core.display.Javascript object>"
      ]
     },
     "metadata": {},
     "output_type": "display_data"
    },
    {
     "data": {
      "text/markdown": [
       "<span style=\"color:#33cc33\">Correct</span>"
      ],
      "text/plain": [
       "Correct"
      ]
     },
     "metadata": {},
     "output_type": "display_data"
    }
   ],
   "source": [
    "# YOUR CODE HERE\n",
    "X_1 = pd.DataFrame()  # dataframe to hold new features\n",
    "\n",
    "X_1[\"LivLotRatio\"] = df.GrLivArea / df.LotArea\n",
    "\n",
    "X_1[\"Spaciousness\"] = (df.FirstFlrSF + df.SecondFlrSF) / df.TotRmsAbvGrd\n",
    "\n",
    "X_1[\"TotalOutsideSF\"] = df.WoodDeckSF + df.OpenPorchSF + df.EnclosedPorch + df.Threeseasonporch + df.ScreenPorch\n",
    "\n",
    "\n",
    "# Check your answer\n",
    "q_1.check()"
   ]
  },
  {
   "cell_type": "code",
   "execution_count": 3,
   "id": "sunrise-coordinate",
   "metadata": {
    "execution": {
     "iopub.execute_input": "2021-04-01T06:41:36.866744Z",
     "iopub.status.busy": "2021-04-01T06:41:36.865846Z",
     "iopub.status.idle": "2021-04-01T06:41:36.869613Z",
     "shell.execute_reply": "2021-04-01T06:41:36.870131Z"
    },
    "lines_to_next_cell": 0,
    "papermill": {
     "duration": 0.025285,
     "end_time": "2021-04-01T06:41:36.870320",
     "exception": false,
     "start_time": "2021-04-01T06:41:36.845035",
     "status": "completed"
    },
    "tags": []
   },
   "outputs": [],
   "source": [
    "# Lines below will give you a hint or solution code\n",
    "#q_1.hint()\n",
    "#q_1.solution()"
   ]
  },
  {
   "cell_type": "markdown",
   "id": "alive-circular",
   "metadata": {
    "papermill": {
     "duration": 0.016273,
     "end_time": "2021-04-01T06:41:36.903055",
     "exception": false,
     "start_time": "2021-04-01T06:41:36.886782",
     "status": "completed"
    },
    "tags": []
   },
   "source": [
    "-------------------------------------------------------------------------------\n",
    "\n",
    "If you've discovered an interaction effect between a numeric feature and a categorical feature, you might want to model it explicitly using a one-hot encoding, like so:\n",
    "\n",
    "```\n",
    "# One-hot encode Categorical feature, adding a column prefix \"Cat\"\n",
    "X_new = pd.get_dummies(df.Categorical, prefix=\"Cat\")\n",
    "\n",
    "# Multiply row-by-row\n",
    "X_new = X_new.mul(df.Continuous, axis=0)\n",
    "\n",
    "# Join the new features to the feature set\n",
    "X = X.join(X_new)\n",
    "```\n",
    "\n",
    "# 2) Interaction with a Categorical\n",
    "\n",
    "We discovered an interaction between `BldgType` and `GrLivArea` in Exercise 2. Now create their interaction features."
   ]
  },
  {
   "cell_type": "code",
   "execution_count": 4,
   "id": "numeric-reception",
   "metadata": {
    "execution": {
     "iopub.execute_input": "2021-04-01T06:41:36.939977Z",
     "iopub.status.busy": "2021-04-01T06:41:36.938981Z",
     "iopub.status.idle": "2021-04-01T06:41:36.962483Z",
     "shell.execute_reply": "2021-04-01T06:41:36.962952Z"
    },
    "lines_to_next_cell": 0,
    "papermill": {
     "duration": 0.043761,
     "end_time": "2021-04-01T06:41:36.963131",
     "exception": false,
     "start_time": "2021-04-01T06:41:36.919370",
     "status": "completed"
    },
    "tags": []
   },
   "outputs": [
    {
     "data": {
      "application/javascript": [
       "parent.postMessage({\"jupyterEvent\": \"custom.exercise_interaction\", \"data\": {\"outcomeType\": 1, \"valueTowardsCompletion\": 0.2, \"interactionType\": 1, \"questionType\": 2, \"questionId\": \"2_Q2\", \"learnToolsVersion\": \"0.3.4\", \"failureMessage\": \"\", \"exceptionClass\": \"\", \"trace\": \"\"}}, \"*\")"
      ],
      "text/plain": [
       "<IPython.core.display.Javascript object>"
      ]
     },
     "metadata": {},
     "output_type": "display_data"
    },
    {
     "data": {
      "text/markdown": [
       "<span style=\"color:#33cc33\">Correct</span>"
      ],
      "text/plain": [
       "Correct"
      ]
     },
     "metadata": {},
     "output_type": "display_data"
    }
   ],
   "source": [
    "# YOUR CODE HERE\n",
    "# One-hot encode BldgType. Use `prefix=\"Bldg\"` in `get_dummies`\n",
    "X_2 = pd.get_dummies(df.BldgType, prefix=\"Bldg\")\n",
    "X_2 = X_2.mul(df.GrLivArea, axis=0)\n",
    "\n",
    "# Check your answer\n",
    "q_2.check()"
   ]
  },
  {
   "cell_type": "code",
   "execution_count": 5,
   "id": "contained-invite",
   "metadata": {
    "execution": {
     "iopub.execute_input": "2021-04-01T06:41:37.003522Z",
     "iopub.status.busy": "2021-04-01T06:41:37.002495Z",
     "iopub.status.idle": "2021-04-01T06:41:37.006649Z",
     "shell.execute_reply": "2021-04-01T06:41:37.007160Z"
    },
    "lines_to_next_cell": 0,
    "papermill": {
     "duration": 0.027027,
     "end_time": "2021-04-01T06:41:37.007352",
     "exception": false,
     "start_time": "2021-04-01T06:41:36.980325",
     "status": "completed"
    },
    "tags": []
   },
   "outputs": [],
   "source": [
    "# Lines below will give you a hint or solution code\n",
    "#q_2.hint()\n",
    "#q_2.solution()"
   ]
  },
  {
   "cell_type": "markdown",
   "id": "particular-frequency",
   "metadata": {
    "lines_to_next_cell": 0,
    "papermill": {
     "duration": 0.017606,
     "end_time": "2021-04-01T06:41:37.043141",
     "exception": false,
     "start_time": "2021-04-01T06:41:37.025535",
     "status": "completed"
    },
    "tags": []
   },
   "source": [
    "# 3) Count Feature\n",
    "\n",
    "Let's try creating a feature that describes how many kinds of outdoor areas a dwelling has. Create a feature `PorchTypes` that counts how many of the following are greater than 0.0:\n",
    "\n",
    "```\n",
    "WoodDeckSF\n",
    "OpenPorchSF\n",
    "EnclosedPorch\n",
    "Threeseasonporch\n",
    "ScreenPorch\n",
    "```"
   ]
  },
  {
   "cell_type": "code",
   "execution_count": 6,
   "id": "advised-columbia",
   "metadata": {
    "execution": {
     "iopub.execute_input": "2021-04-01T06:41:37.081962Z",
     "iopub.status.busy": "2021-04-01T06:41:37.081284Z",
     "iopub.status.idle": "2021-04-01T06:41:37.100986Z",
     "shell.execute_reply": "2021-04-01T06:41:37.101555Z"
    },
    "lines_to_next_cell": 0,
    "papermill": {
     "duration": 0.041326,
     "end_time": "2021-04-01T06:41:37.101737",
     "exception": false,
     "start_time": "2021-04-01T06:41:37.060411",
     "status": "completed"
    },
    "tags": []
   },
   "outputs": [
    {
     "data": {
      "application/javascript": [
       "parent.postMessage({\"jupyterEvent\": \"custom.exercise_interaction\", \"data\": {\"outcomeType\": 1, \"valueTowardsCompletion\": 0.2, \"interactionType\": 1, \"questionType\": 2, \"questionId\": \"3_Q3\", \"learnToolsVersion\": \"0.3.4\", \"failureMessage\": \"\", \"exceptionClass\": \"\", \"trace\": \"\"}}, \"*\")"
      ],
      "text/plain": [
       "<IPython.core.display.Javascript object>"
      ]
     },
     "metadata": {},
     "output_type": "display_data"
    },
    {
     "data": {
      "text/markdown": [
       "<span style=\"color:#33cc33\">Correct</span>"
      ],
      "text/plain": [
       "Correct"
      ]
     },
     "metadata": {},
     "output_type": "display_data"
    }
   ],
   "source": [
    "X_3 = pd.DataFrame()\n",
    "\n",
    "# YOUR CODE HERE\n",
    "features = ['WoodDeckSF','OpenPorchSF','EnclosedPorch','Threeseasonporch','ScreenPorch']\n",
    "X_3[\"PorchTypes\"] = df[features].gt(0.0).sum(axis = 1)\n",
    "\n",
    "\n",
    "# Check your answer\n",
    "q_3.check()"
   ]
  },
  {
   "cell_type": "code",
   "execution_count": 7,
   "id": "accredited-brooklyn",
   "metadata": {
    "execution": {
     "iopub.execute_input": "2021-04-01T06:41:37.142775Z",
     "iopub.status.busy": "2021-04-01T06:41:37.142120Z",
     "iopub.status.idle": "2021-04-01T06:41:37.146416Z",
     "shell.execute_reply": "2021-04-01T06:41:37.145861Z"
    },
    "lines_to_next_cell": 0,
    "papermill": {
     "duration": 0.026039,
     "end_time": "2021-04-01T06:41:37.146580",
     "exception": false,
     "start_time": "2021-04-01T06:41:37.120541",
     "status": "completed"
    },
    "tags": []
   },
   "outputs": [],
   "source": [
    "# Lines below will give you a hint or solution code\n",
    "#q_3.hint()\n",
    "#q_3.solution()"
   ]
  },
  {
   "cell_type": "markdown",
   "id": "constitutional-diana",
   "metadata": {
    "papermill": {
     "duration": 0.018048,
     "end_time": "2021-04-01T06:41:37.183258",
     "exception": false,
     "start_time": "2021-04-01T06:41:37.165210",
     "status": "completed"
    },
    "tags": []
   },
   "source": [
    "# 4) Break Down a Categorical Feature\n",
    "\n",
    "`MSSubClass` describes the type of a dwelling:"
   ]
  },
  {
   "cell_type": "code",
   "execution_count": 8,
   "id": "hungarian-grade",
   "metadata": {
    "execution": {
     "iopub.execute_input": "2021-04-01T06:41:37.227465Z",
     "iopub.status.busy": "2021-04-01T06:41:37.226505Z",
     "iopub.status.idle": "2021-04-01T06:41:37.231879Z",
     "shell.execute_reply": "2021-04-01T06:41:37.231197Z"
    },
    "papermill": {
     "duration": 0.030395,
     "end_time": "2021-04-01T06:41:37.232048",
     "exception": false,
     "start_time": "2021-04-01T06:41:37.201653",
     "status": "completed"
    },
    "tags": []
   },
   "outputs": [
    {
     "data": {
      "text/plain": [
       "array(['One_Story_1946_and_Newer_All_Styles', 'Two_Story_1946_and_Newer',\n",
       "       'One_Story_PUD_1946_and_Newer',\n",
       "       'One_and_Half_Story_Finished_All_Ages', 'Split_Foyer',\n",
       "       'Two_Story_PUD_1946_and_Newer', 'Split_or_Multilevel',\n",
       "       'One_Story_1945_and_Older', 'Duplex_All_Styles_and_Ages',\n",
       "       'Two_Family_conversion_All_Styles_and_Ages',\n",
       "       'One_and_Half_Story_Unfinished_All_Ages',\n",
       "       'Two_Story_1945_and_Older', 'Two_and_Half_Story_All_Ages',\n",
       "       'One_Story_with_Finished_Attic_All_Ages',\n",
       "       'PUD_Multilevel_Split_Level_Foyer',\n",
       "       'One_and_Half_Story_PUD_All_Ages'], dtype=object)"
      ]
     },
     "execution_count": 8,
     "metadata": {},
     "output_type": "execute_result"
    }
   ],
   "source": [
    "df.MSSubClass.unique()"
   ]
  },
  {
   "cell_type": "markdown",
   "id": "under-agreement",
   "metadata": {
    "papermill": {
     "duration": 0.020334,
     "end_time": "2021-04-01T06:41:37.272289",
     "exception": false,
     "start_time": "2021-04-01T06:41:37.251955",
     "status": "completed"
    },
    "tags": []
   },
   "source": [
    "You can see that there is a more general categorization described (roughly) by the first word of each category. Create a feature containing only these first words by splitting `MSSubClass` at the first underscore `_`. (Hint: In the `split` method use an argument `n=1`.)"
   ]
  },
  {
   "cell_type": "code",
   "execution_count": 9,
   "id": "perceived-vegetation",
   "metadata": {
    "execution": {
     "iopub.execute_input": "2021-04-01T06:41:37.313994Z",
     "iopub.status.busy": "2021-04-01T06:41:37.313223Z",
     "iopub.status.idle": "2021-04-01T06:41:37.338715Z",
     "shell.execute_reply": "2021-04-01T06:41:37.339300Z"
    },
    "lines_to_next_cell": 0,
    "papermill": {
     "duration": 0.048066,
     "end_time": "2021-04-01T06:41:37.339486",
     "exception": false,
     "start_time": "2021-04-01T06:41:37.291420",
     "status": "completed"
    },
    "tags": []
   },
   "outputs": [
    {
     "data": {
      "application/javascript": [
       "parent.postMessage({\"jupyterEvent\": \"custom.exercise_interaction\", \"data\": {\"outcomeType\": 1, \"valueTowardsCompletion\": 0.2, \"interactionType\": 1, \"questionType\": 2, \"questionId\": \"4_Q4\", \"learnToolsVersion\": \"0.3.4\", \"failureMessage\": \"\", \"exceptionClass\": \"\", \"trace\": \"\"}}, \"*\")"
      ],
      "text/plain": [
       "<IPython.core.display.Javascript object>"
      ]
     },
     "metadata": {},
     "output_type": "display_data"
    },
    {
     "data": {
      "text/markdown": [
       "<span style=\"color:#33cc33\">Correct</span>"
      ],
      "text/plain": [
       "Correct"
      ]
     },
     "metadata": {},
     "output_type": "display_data"
    }
   ],
   "source": [
    "X_4 = pd.DataFrame()\n",
    "\n",
    "# YOUR CODE HERE\n",
    "X_4[\"MSClass\"] = df.MSSubClass.str.split(\"_\", n=1, expand=True)[0]\n",
    "\n",
    "\n",
    "# Check your answer\n",
    "q_4.check()"
   ]
  },
  {
   "cell_type": "code",
   "execution_count": 10,
   "id": "analyzed-pennsylvania",
   "metadata": {
    "execution": {
     "iopub.execute_input": "2021-04-01T06:41:37.385323Z",
     "iopub.status.busy": "2021-04-01T06:41:37.384635Z",
     "iopub.status.idle": "2021-04-01T06:41:37.387872Z",
     "shell.execute_reply": "2021-04-01T06:41:37.388363Z"
    },
    "lines_to_next_cell": 0,
    "papermill": {
     "duration": 0.028398,
     "end_time": "2021-04-01T06:41:37.388555",
     "exception": false,
     "start_time": "2021-04-01T06:41:37.360157",
     "status": "completed"
    },
    "tags": []
   },
   "outputs": [],
   "source": [
    "# Lines below will give you a hint or solution code\n",
    "#q_4.hint()\n",
    "#q_4.solution()"
   ]
  },
  {
   "cell_type": "markdown",
   "id": "composed-asset",
   "metadata": {
    "papermill": {
     "duration": 0.020499,
     "end_time": "2021-04-01T06:41:37.429626",
     "exception": false,
     "start_time": "2021-04-01T06:41:37.409127",
     "status": "completed"
    },
    "tags": []
   },
   "source": [
    "# 5) Use a Grouped Transform\n",
    "\n",
    "The value of a home often depends on how it compares to typical homes in its neighborhood. Create a feature `MedNhbdArea` that describes the *median* of `GrLivArea` grouped on `Neighborhood`."
   ]
  },
  {
   "cell_type": "code",
   "execution_count": 11,
   "id": "liberal-newfoundland",
   "metadata": {
    "execution": {
     "iopub.execute_input": "2021-04-01T06:41:37.487214Z",
     "iopub.status.busy": "2021-04-01T06:41:37.486084Z",
     "iopub.status.idle": "2021-04-01T06:41:37.505562Z",
     "shell.execute_reply": "2021-04-01T06:41:37.506317Z"
    },
    "lines_to_next_cell": 0,
    "papermill": {
     "duration": 0.050918,
     "end_time": "2021-04-01T06:41:37.506557",
     "exception": false,
     "start_time": "2021-04-01T06:41:37.455639",
     "status": "completed"
    },
    "tags": []
   },
   "outputs": [
    {
     "data": {
      "application/javascript": [
       "parent.postMessage({\"jupyterEvent\": \"custom.exercise_interaction\", \"data\": {\"outcomeType\": 1, \"valueTowardsCompletion\": 0.2, \"interactionType\": 1, \"questionType\": 2, \"questionId\": \"5_Q5\", \"learnToolsVersion\": \"0.3.4\", \"failureMessage\": \"\", \"exceptionClass\": \"\", \"trace\": \"\"}}, \"*\")"
      ],
      "text/plain": [
       "<IPython.core.display.Javascript object>"
      ]
     },
     "metadata": {},
     "output_type": "display_data"
    },
    {
     "data": {
      "text/markdown": [
       "<span style=\"color:#33cc33\">Correct</span>"
      ],
      "text/plain": [
       "Correct"
      ]
     },
     "metadata": {},
     "output_type": "display_data"
    }
   ],
   "source": [
    "X_5 = pd.DataFrame()\n",
    "\n",
    "# YOUR CODE HERE\n",
    "X_5[\"MedNhbdArea\"] = df.groupby(\"Neighborhood\")[\"GrLivArea\"].transform(\"median\")\n",
    "\n",
    "# Check your answer\n",
    "q_5.check()"
   ]
  },
  {
   "cell_type": "code",
   "execution_count": 12,
   "id": "metallic-richardson",
   "metadata": {
    "execution": {
     "iopub.execute_input": "2021-04-01T06:41:37.564038Z",
     "iopub.status.busy": "2021-04-01T06:41:37.563328Z",
     "iopub.status.idle": "2021-04-01T06:41:37.568509Z",
     "shell.execute_reply": "2021-04-01T06:41:37.569176Z"
    },
    "lines_to_next_cell": 0,
    "papermill": {
     "duration": 0.033596,
     "end_time": "2021-04-01T06:41:37.569374",
     "exception": false,
     "start_time": "2021-04-01T06:41:37.535778",
     "status": "completed"
    },
    "tags": []
   },
   "outputs": [],
   "source": [
    "# Lines below will give you a hint or solution code\n",
    "#q_5.hint()\n",
    "# q_5.solution()"
   ]
  },
  {
   "cell_type": "markdown",
   "id": "third-clear",
   "metadata": {
    "papermill": {
     "duration": 0.021236,
     "end_time": "2021-04-01T06:41:37.619262",
     "exception": false,
     "start_time": "2021-04-01T06:41:37.598026",
     "status": "completed"
    },
    "tags": []
   },
   "source": [
    "Now you've made your first new feature set! If you like, you can run the cell below to score the model with all of your new features added:"
   ]
  },
  {
   "cell_type": "code",
   "execution_count": 13,
   "id": "herbal-movie",
   "metadata": {
    "execution": {
     "iopub.execute_input": "2021-04-01T06:41:37.666394Z",
     "iopub.status.busy": "2021-04-01T06:41:37.665737Z",
     "iopub.status.idle": "2021-04-01T06:41:41.028697Z",
     "shell.execute_reply": "2021-04-01T06:41:41.029335Z"
    },
    "papermill": {
     "duration": 3.387973,
     "end_time": "2021-04-01T06:41:41.029546",
     "exception": false,
     "start_time": "2021-04-01T06:41:37.641573",
     "status": "completed"
    },
    "tags": []
   },
   "outputs": [
    {
     "data": {
      "text/plain": [
       "0.13847331710099203"
      ]
     },
     "execution_count": 13,
     "metadata": {},
     "output_type": "execute_result"
    }
   ],
   "source": [
    "X_new = X.join([X_1, X_2, X_3, X_4, X_5])\n",
    "score_dataset(X_new, y)"
   ]
  },
  {
   "cell_type": "markdown",
   "id": "tamil-patrick",
   "metadata": {
    "papermill": {
     "duration": 0.021781,
     "end_time": "2021-04-01T06:41:41.074693",
     "exception": false,
     "start_time": "2021-04-01T06:41:41.052912",
     "status": "completed"
    },
    "tags": []
   },
   "source": [
    "# Keep Going #\n",
    "\n",
    "[**Untangle spatial relationships**](https://www.kaggle.com/ryanholbrook/clustering-with-k-means) by adding cluster labels to your dataset."
   ]
  },
  {
   "cell_type": "markdown",
   "id": "plastic-newman",
   "metadata": {
    "papermill": {
     "duration": 0.021719,
     "end_time": "2021-04-01T06:41:41.118455",
     "exception": false,
     "start_time": "2021-04-01T06:41:41.096736",
     "status": "completed"
    },
    "tags": []
   },
   "source": [
    "---\n",
    "\n",
    "\n",
    "\n",
    "\n",
    "*Have questions or comments? Visit the [Learn Discussion forum](https://www.kaggle.com/learn-forum/221677) to chat with other Learners.*"
   ]
  }
 ],
 "metadata": {
  "kernelspec": {
   "display_name": "Python 3",
   "language": "python",
   "name": "python3"
  },
  "language_info": {
   "codemirror_mode": {
    "name": "ipython",
    "version": 3
   },
   "file_extension": ".py",
   "mimetype": "text/x-python",
   "name": "python",
   "nbconvert_exporter": "python",
   "pygments_lexer": "ipython3",
   "version": "3.7.9"
  },
  "papermill": {
   "default_parameters": {},
   "duration": 14.199746,
   "end_time": "2021-04-01T06:41:41.850725",
   "environment_variables": {},
   "exception": null,
   "input_path": "__notebook__.ipynb",
   "output_path": "__notebook__.ipynb",
   "parameters": {},
   "start_time": "2021-04-01T06:41:27.650979",
   "version": "2.3.2"
  }
 },
 "nbformat": 4,
 "nbformat_minor": 5
}
